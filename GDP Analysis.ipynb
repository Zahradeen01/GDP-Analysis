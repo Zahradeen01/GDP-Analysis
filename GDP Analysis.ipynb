{
 "cells": [
  {
   "cell_type": "markdown",
   "metadata": {},
   "source": [
    "### Importing libraries"
   ]
  },
  {
   "cell_type": "code",
   "execution_count": null,
   "metadata": {
    "vscode": {
     "languageId": "plaintext"
    }
   },
   "outputs": [],
   "source": [
    "import numpy as np # linear algebra\n",
    "import pandas as pd # data processing, CSV file I/O (e.g. pd.read_csv)\n",
    "import seaborn as sns\n",
    "from matplotlib import pyplot as plt\n",
    "\n",
    "from sklearn.preprocessing import LabelEncoder\n",
    "from sklearn.model_selection import train_test_split\n",
    "from sklearn.linear_model import LinearRegression\n",
    "from sklearn.tree import DecisionTreeRegressor\n",
    "from sklearn.ensemble import RandomForestRegressor\n",
    "from sklearn.metrics import mean_squared_error, mean_squared_log_error"
   ]
  },
  {
   "cell_type": "markdown",
   "metadata": {},
   "source": [
    "#### Read in the Dataset"
   ]
  },
  {
   "cell_type": "code",
   "execution_count": null,
   "metadata": {
    "vscode": {
     "languageId": "plaintext"
    }
   },
   "outputs": [],
   "source": [
    "data = pd.read_csv('world.csv',decimal=',')\n",
    "print('number of missing data:')\n",
    "print(data.isnull().sum())\n",
    "data.describe(include='all')"
   ]
  },
  {
   "cell_type": "markdown",
   "metadata": {},
   "source": [
    "### Handling Missing Values\n",
    "#### Median of the region that a country belongs, as countries that are close geologically are often similar in many ways\n",
    "#### Mode instead of median for climate as ‘climate’ is a categorical feature\n",
    "##### Lets check the region median of ‘GDP ($ per capita)’, ‘Literacy (%)’ and ‘Agriculture’ for example"
   ]
  },
  {
   "cell_type": "code",
   "execution_count": null,
   "metadata": {
    "vscode": {
     "languageId": "plaintext"
    }
   },
   "outputs": [],
   "source": [
    "data.groupby('Region')[['GDP ($ per capita)','Literacy (%)','Agriculture']].median()"
   ]
  },
  {
   "cell_type": "code",
   "execution_count": null,
   "metadata": {
    "vscode": {
     "languageId": "plaintext"
    }
   },
   "outputs": [],
   "source": [
    "for col in data.columns.values:\n",
    "    if data[col].isnull().sum() == 0:\n",
    "        continue\n",
    "    if col == 'Climate':\n",
    "        guess_values = data.groupby('Region')['Climate'].apply(lambda x: x.mode().max())\n",
    "    else:\n",
    "        guess_values = data.groupby('Region')[col].median()\n",
    "    for region in data['Region'].unique():\n",
    "        data[col].loc[(data[col].isnull())&(data['Region']==region)] = guess_values[region]"
   ]
  },
  {
   "cell_type": "markdown",
   "metadata": {},
   "source": [
    "### Look at the top 20 countries with highest GDP per capita"
   ]
  },
  {
   "cell_type": "code",
   "execution_count": null,
   "metadata": {
    "vscode": {
     "languageId": "plaintext"
    }
   },
   "outputs": [],
   "source": [
    "fig, ax = plt.subplots(figsize=(16,6))\n",
    "#ax = fig.add_subplot(111)\n",
    "top_gdp_countries = data.sort_values('GDP ($ per capita)',ascending=False).head(20)\n",
    "mean = pd.DataFrame({'Country':['World mean'], 'GDP ($ per capita)':[data['GDP ($ per capita)'].mean()]})\n",
    "gdps = pd.concat([top_gdp_countries[['Country','GDP ($ per capita)']],mean],ignore_index=True)\n",
    "\n",
    "sns.barplot(x='Country',y='GDP ($ per capita)',data=gdps, palette='Set3')\n",
    "ax.set_xlabel(ax.get_xlabel(),labelpad=15)\n",
    "ax.set_ylabel(ax.get_ylabel(),labelpad=30)\n",
    "ax.xaxis.label.set_fontsize(16)\n",
    "ax.yaxis.label.set_fontsize(16)\n",
    "plt.xticks(rotation=90)\n",
    "plt.show()"
   ]
  },
  {
   "cell_type": "markdown",
   "metadata": {},
   "source": [
    "### correlation between all numerical columns"
   ]
  },
  {
   "cell_type": "code",
   "execution_count": null,
   "metadata": {
    "vscode": {
     "languageId": "plaintext"
    }
   },
   "outputs": [],
   "source": [
    "plt.figure(figsize=(16,12))\n",
    "sns.heatmap(data=data.iloc[:,2:].corr(),annot=True,fmt='.2f',cmap='coolwarm')\n",
    "plt.show()"
   ]
  },
  {
   "cell_type": "markdown",
   "metadata": {},
   "source": [
    "### Factors most affecting GDP per capita"
   ]
  },
  {
   "cell_type": "code",
   "execution_count": null,
   "metadata": {
    "vscode": {
     "languageId": "plaintext"
    }
   },
   "outputs": [],
   "source": [
    "fig, axes = plt.subplots(nrows=2, ncols=3, figsize=(20,12))\n",
    "plt.subplots_adjust(hspace=0.4)\n",
    "\n",
    "corr_to_gdp = pd.Series()\n",
    "for col in data.columns.values[2:]:\n",
    "    if ((col!='GDP ($ per capita)')&(col!='Climate')):\n",
    "        corr_to_gdp[col] = data['GDP ($ per capita)'].corr(data[col])\n",
    "abs_corr_to_gdp = corr_to_gdp.abs().sort_values(ascending=False)\n",
    "corr_to_gdp = corr_to_gdp.loc[abs_corr_to_gdp.index]\n",
    "\n",
    "for i in range(2):\n",
    "    for j in range(3):\n",
    "        sns.regplot(x=corr_to_gdp.index.values[i*3+j], y='GDP ($ per capita)', data=data,\n",
    "                   ax=axes[i,j], fit_reg=False, marker='.')\n",
    "        title = 'correlation='+str(corr_to_gdp[i*3+j])\n",
    "        axes[i,j].set_title(title)\n",
    "axes[1,2].set_xlim(0,102)\n",
    "plt.show()"
   ]
  },
  {
   "cell_type": "markdown",
   "metadata": {},
   "source": [
    "Countries with low Birthrate and low GDP per capita\n",
    "Some features, like phones, are related to the average GDP more linearly, while others are not. For example, High birthrate usually means low GDP per capita, but average GDP in low birthrate countries can vary a lot.\n",
    "\n",
    "Let’s look at the countries with low birthrate (<14%) and low GDP per capita (<10000 $). They also have hight literacy, like other high average GDP countires. But we hope their other features can help distiguish them from those with low birthrate but high average GDPs, like service are not quite an importent portion in their economy, not a lot phone procession, some have negative net migration, and many of them are from eastern Europe or C.W. of IND. STATES, so the ‘region’ feature may also be useful."
   ]
  },
  {
   "cell_type": "markdown",
   "metadata": {},
   "source": [
    "#### countries with low birthrate (<14%) and low GDP per capita (<10000 $)"
   ]
  },
  {
   "cell_type": "code",
   "execution_count": null,
   "metadata": {
    "vscode": {
     "languageId": "plaintext"
    }
   },
   "outputs": [],
   "source": [
    "data.loc[(data['Birthrate']<14)&(data['GDP ($ per capita)']<10000)]"
   ]
  },
  {
   "cell_type": "markdown",
   "metadata": {},
   "source": [
    "#### label encode the categorical features ‘Region’ and ‘Climate’"
   ]
  },
  {
   "cell_type": "code",
   "execution_count": null,
   "metadata": {
    "vscode": {
     "languageId": "plaintext"
    }
   },
   "outputs": [],
   "source": [
    "LE = LabelEncoder()\n",
    "data['Region_label'] = LE.fit_transform(data['Region'])\n",
    "data['Climate_label'] = LE.fit_transform(data['Climate'])\n",
    "data.head()"
   ]
  },
  {
   "cell_type": "code",
   "execution_count": null,
   "metadata": {
    "vscode": {
     "languageId": "plaintext"
    }
   },
   "outputs": [],
   "source": [
    "train, test = train_test_split(data, test_size=0.3, shuffle=True)\n",
    "training_features = ['Population', 'Area (sq. mi.)',\n",
    "       'Pop. Density (per sq. mi.)', 'Coastline (coast/area ratio)',\n",
    "       'Net migration', 'Infant mortality (per 1000 births)',\n",
    "       'Literacy (%)', 'Phones (per 1000)',\n",
    "       'Arable (%)', 'Crops (%)', 'Other (%)', 'Birthrate',\n",
    "       'Deathrate', 'Agriculture', 'Industry', 'Service', 'Region_label',\n",
    "       'Climate_label','Service']\n",
    "target = 'GDP ($ per capita)'\n",
    "train_X = train[training_features]\n",
    "train_Y = train[target]\n",
    "test_X = test[training_features]\n",
    "test_Y = test[target]"
   ]
  },
  {
   "cell_type": "markdown",
   "metadata": {},
   "source": [
    "### Linear Model"
   ]
  },
  {
   "cell_type": "code",
   "execution_count": null,
   "metadata": {
    "vscode": {
     "languageId": "plaintext"
    }
   },
   "outputs": [],
   "source": [
    "model = LinearRegression()\n",
    "model.fit(train_X, train_Y)\n",
    "train_pred_Y = model.predict(train_X)\n",
    "test_pred_Y = model.predict(test_X)\n",
    "train_pred_Y = pd.Series(train_pred_Y.clip(0, train_pred_Y.max()), index=train_Y.index)\n",
    "test_pred_Y = pd.Series(test_pred_Y.clip(0, test_pred_Y.max()), index=test_Y.index)\n",
    "\n",
    "rmse_train = np.sqrt(mean_squared_error(train_pred_Y, train_Y))\n",
    "msle_train = mean_squared_log_error(train_pred_Y, train_Y)\n",
    "rmse_test = np.sqrt(mean_squared_error(test_pred_Y, test_Y))\n",
    "msle_test = mean_squared_log_error(test_pred_Y, test_Y)\n",
    "\n",
    "print('rmse_train:',rmse_train,'msle_train:',msle_train)\n",
    "print('rmse_test:',rmse_test,'msle_test:',msle_test)"
   ]
  },
  {
   "cell_type": "markdown",
   "metadata": {},
   "source": [
    "### Random Forest"
   ]
  },
  {
   "cell_type": "code",
   "execution_count": null,
   "metadata": {
    "vscode": {
     "languageId": "plaintext"
    }
   },
   "outputs": [],
   "source": [
    "model = RandomForestRegressor(n_estimators = 50,\n",
    "                             max_depth = 6,\n",
    "                             min_weight_fraction_leaf = 0.05,\n",
    "                             max_features = 0.8,\n",
    "                             random_state = 42)\n",
    "model.fit(train_X, train_Y)\n",
    "train_pred_Y = model.predict(train_X)\n",
    "test_pred_Y = model.predict(test_X)\n",
    "train_pred_Y = pd.Series(train_pred_Y.clip(0, train_pred_Y.max()), index=train_Y.index)\n",
    "test_pred_Y = pd.Series(test_pred_Y.clip(0, test_pred_Y.max()), index=test_Y.index)\n",
    "\n",
    "rmse_train = np.sqrt(mean_squared_error(train_pred_Y, train_Y))\n",
    "msle_train = mean_squared_log_error(train_pred_Y, train_Y)\n",
    "rmse_test = np.sqrt(mean_squared_error(test_pred_Y, test_Y))\n",
    "msle_test = mean_squared_log_error(test_pred_Y, test_Y)\n",
    "\n",
    "print('rmse_train:',rmse_train,'msle_train:',msle_train)\n",
    "print('rmse_test:',rmse_test,'msle_test:',msle_test)"
   ]
  },
  {
   "cell_type": "markdown",
   "metadata": {},
   "source": [
    "### Visualizing the Results"
   ]
  },
  {
   "cell_type": "code",
   "execution_count": null,
   "metadata": {
    "vscode": {
     "languageId": "plaintext"
    }
   },
   "outputs": [],
   "source": [
    "plt.figure(figsize=(18,12))\n",
    "\n",
    "train_test_Y = train_Y.append(test_Y)\n",
    "train_test_pred_Y = train_pred_Y.append(test_pred_Y)\n",
    "\n",
    "data_shuffled = data.loc[train_test_Y.index]\n",
    "label = data_shuffled['Country']\n",
    "\n",
    "colors = {'ASIA (EX. NEAR EAST)         ':'red',\n",
    "          'EASTERN EUROPE                     ':'orange',\n",
    "          'NORTHERN AFRICA                    ':'gold',\n",
    "          'OCEANIA                            ':'green',\n",
    "          'WESTERN EUROPE                     ':'blue',\n",
    "          'SUB-SAHARAN AFRICA                 ':'purple',\n",
    "          'LATIN AMER. & CARIB    ':'olive',\n",
    "          'C.W. OF IND. STATES ':'cyan',\n",
    "          'NEAR EAST                          ':'hotpink',\n",
    "          'NORTHERN AMERICA                   ':'lightseagreen',\n",
    "          'BALTICS                            ':'rosybrown'}\n",
    "\n",
    "for region, color in colors.items():\n",
    "    X = train_test_Y.loc[data_shuffled['Region']==region]\n",
    "    Y = train_test_pred_Y.loc[data_shuffled['Region']==region]\n",
    "    ax = sns.regplot(x=X, y=Y, marker='.', fit_reg=False, color=color, scatter_kws={'s':200, 'linewidths':0}, label=region) \n",
    "plt.legend(loc=4,prop={'size': 12})  \n",
    "\n",
    "ax.set_xlabel('GDP ($ per capita) ground truth',labelpad=40)\n",
    "ax.set_ylabel('GDP ($ per capita) predicted',labelpad=40)\n",
    "ax.xaxis.label.set_fontsize(24)\n",
    "ax.yaxis.label.set_fontsize(24)\n",
    "ax.tick_params(labelsize=12)\n",
    "\n",
    "x = np.linspace(-1000,50000,100) # 100 linearly spaced numbers\n",
    "y = x\n",
    "plt.plot(x,y,c='gray')\n",
    "\n",
    "plt.xlim(-1000,60000)\n",
    "plt.ylim(-1000,40000)\n",
    "\n",
    "for i in range(0,train_test_Y.shape[0]):\n",
    "    if((data_shuffled['Area (sq. mi.)'].iloc[i]>8e5) |\n",
    "       (data_shuffled['Population'].iloc[i]>1e8) |\n",
    "       (data_shuffled['GDP ($ per capita)'].iloc[i]>10000)):\n",
    "        plt.text(train_test_Y.iloc[i]+200, train_test_pred_Y.iloc[i]-200, label.iloc[i], size='small')"
   ]
  },
  {
   "cell_type": "markdown",
   "metadata": {},
   "source": [
    "### Lets visualize 10 countries with highest total GDPs "
   ]
  },
  {
   "cell_type": "code",
   "execution_count": null,
   "metadata": {
    "vscode": {
     "languageId": "plaintext"
    }
   },
   "outputs": [],
   "source": [
    "data['Total_GDP ($)'] = data['GDP ($ per capita)'] * data['Population']\n",
    "#plt.figure(figsize=(16,6))\n",
    "top_gdp_countries = data.sort_values('Total_GDP ($)',ascending=False).head(10)\n",
    "other = pd.DataFrame({'Country':['Other'], 'Total_GDP ($)':[data['Total_GDP ($)'].sum() - top_gdp_countries['Total_GDP ($)'].sum()]})\n",
    "gdps = pd.concat([top_gdp_countries[['Country','Total_GDP ($)']],other],ignore_index=True)\n",
    "\n",
    "fig, axes = plt.subplots(nrows=1, ncols=2, figsize=(20,7),gridspec_kw = {'width_ratios':[2,1]})\n",
    "sns.barplot(x='Country',y='Total_GDP ($)',data=gdps,ax=axes[0],palette='Set3')\n",
    "axes[0].set_xlabel('Country',labelpad=30,fontsize=16)\n",
    "axes[0].set_ylabel('Total_GDP',labelpad=30,fontsize=16)\n",
    "\n",
    "colors = sns.color_palette(\"Set3\", gdps.shape[0]).as_hex()\n",
    "axes[1].pie(gdps['Total_GDP ($)'], labels=gdps['Country'],colors=colors,autopct='%1.1f%%',shadow=True)\n",
    "axes[1].axis('equal')\n",
    "plt.show()"
   ]
  },
  {
   "cell_type": "markdown",
   "metadata": {},
   "source": [
    "### Let’s compare the 10 countries’ rank in total GDP and GDP per capita."
   ]
  },
  {
   "cell_type": "code",
   "execution_count": null,
   "metadata": {
    "vscode": {
     "languageId": "plaintext"
    }
   },
   "outputs": [],
   "source": [
    "Rank1 = data[['Country','Total_GDP ($)']].sort_values('Total_GDP ($)', ascending=False).reset_index()\n",
    "Rank2 = data[['Country','GDP ($ per capita)']].sort_values('GDP ($ per capita)', ascending=False).reset_index()\n",
    "Rank1 = pd.Series(Rank1.index.values+1, index=Rank1.Country)\n",
    "Rank2 = pd.Series(Rank2.index.values+1, index=Rank2.Country)\n",
    "Rank_change = (Rank2-Rank1).sort_values(ascending=False)\n",
    "print('rank of total GDP - rank of GDP per capita:')\n",
    "Rank_change.loc[top_gdp_countries.Country]"
   ]
  },
  {
   "cell_type": "markdown",
   "metadata": {},
   "source": [
    "### Correlation between total GDP and the other columns"
   ]
  },
  {
   "cell_type": "code",
   "execution_count": null,
   "metadata": {
    "vscode": {
     "languageId": "plaintext"
    }
   },
   "outputs": [],
   "source": [
    "corr_to_gdp = pd.Series()\n",
    "for col in data.columns.values[2:]:\n",
    "    if ((col!='Total_GDP ($)')&(col!='Climate')&(col!='GDP ($ per capita)')):\n",
    "        corr_to_gdp[col] = data['Total_GDP ($)'].corr(data[col])\n",
    "abs_corr_to_gdp = corr_to_gdp.abs().sort_values(ascending=False)\n",
    "corr_to_gdp = corr_to_gdp.loc[abs_corr_to_gdp.index]\n",
    "print(corr_to_gdp)"
   ]
  },
  {
   "cell_type": "markdown",
   "metadata": {},
   "source": [
    "#### Comparison of the economy structure for the ten countries with highest total GDP"
   ]
  },
  {
   "cell_type": "code",
   "execution_count": null,
   "metadata": {
    "vscode": {
     "languageId": "plaintext"
    }
   },
   "outputs": [],
   "source": [
    "plot_data = top_gdp_countries.head(10)[['Country','Agriculture', 'Industry', 'Service']]\n",
    "plot_data = plot_data.set_index('Country')\n",
    "ax = plot_data.plot.bar(stacked=True,figsize=(10,6))\n",
    "ax.legend(bbox_to_anchor=(1, 1))\n",
    "plt.show()"
   ]
  },
  {
   "cell_type": "markdown",
   "metadata": {},
   "source": [
    "### Let's Compare Land Usage"
   ]
  },
  {
   "cell_type": "code",
   "execution_count": null,
   "metadata": {
    "vscode": {
     "languageId": "plaintext"
    }
   },
   "outputs": [],
   "source": [
    "plot_data = top_gdp_countries[['Country','Arable (%)', 'Crops (%)', 'Other (%)']]\n",
    "plot_data = plot_data.set_index('Country')\n",
    "ax = plot_data.plot.bar(stacked=True,figsize=(10,6))\n",
    "ax.legend(bbox_to_anchor=(1, 1))\n",
    "plt.show()"
   ]
  }
 ],
 "metadata": {
  "language_info": {
   "name": "python"
  }
 },
 "nbformat": 4,
 "nbformat_minor": 2
}
